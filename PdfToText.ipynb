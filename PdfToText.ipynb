{
 "cells": [
  {
   "cell_type": "markdown",
   "id": "1bebc8b5-8e5a-4bed-be8e-3a96b3b1b1da",
   "metadata": {},
   "source": [
    "### PDF'ten Yazı İşlemek"
   ]
  },
  {
   "cell_type": "markdown",
   "id": "cf90368f-7bcd-48d2-bb20-5a7ed325a4d5",
   "metadata": {},
   "source": [
    "Pdf'ten yazıları elde edebilmek için öncelikle pdf2image kütüphanesi sayesinde pdfleri resim formatına dönüştürüyoruz. Kütüphane için terminalden ; \"pip install pdf2image\" komutu ile kütüphaneyi indiriyoruz. Ancak bu kütüphane Poppler olmadan çalışmadığı için \"conda install -c conda-forge poppler\" komutu ile onun kurulumunu da yapıyoruz."
   ]
  },
  {
   "cell_type": "code",
   "execution_count": 1,
   "id": "1d259723-7f27-423e-b781-3a0a6cb35edb",
   "metadata": {},
   "outputs": [],
   "source": [
    "from pdf2image import convert_from_path\n",
    "import argparse\n",
    "import os\n",
    "import cv2 as cv\n",
    "import numpy as np\n",
    "from PIL import Image\n",
    "import matplotlib.pyplot as plt"
   ]
  },
  {
   "cell_type": "markdown",
   "id": "7e26ba6e-4179-4cb7-8d37-bdf28deef402",
   "metadata": {},
   "source": [
    "## Bilgi Elde Etmek için Görüntü Bölgelerini İşaretleme\n",
    "Not: Bölgeleri işaretleyebilmek için görüntüleri iyileştirmeliyiz. (DPI ≥ 300, Çarpıklık, Keskinlik ve Parlaklık ayarlanmalıdır, Eşikleme gibi)\n",
    "\n",
    "OCR ile görüntülerdeki yazıları seçebiliyoruz. Doğrudan OCR kullanarak elde edilen sonuçlarda satır sonları bazı bozukluklara sebep olabiliyor. Bu yüzden de öncelikle yazıları tespit edip etrafını işaretleyerek bu sorunun üstesinden gelebiliriz."
   ]
  },
  {
   "cell_type": "code",
   "execution_count": 2,
   "id": "d56cc0e8-b2ef-4c17-8767-36fe4b3f7c5f",
   "metadata": {},
   "outputs": [
    {
     "name": "stdout",
     "output_type": "stream",
     "text": [
      "Page_1.jpg oluşturuldu\n",
      "image_1.jpg text sınırlı görüntü oluşturuldu\n",
      "Başarıyla tamamlandı!\n"
     ]
    }
   ],
   "source": [
    "# Pdfleri görüntülere dönüştürelim\n",
    "pdfs = r\"Samplepdfs\\1.pdf\"\n",
    "pages = convert_from_path(pdfs, 350, poppler_path = r\"C:\\Program Files\\poppler-0.68.0\\bin\")\n",
    "\n",
    "# Pdfte ilgilendiğimiz yerleri işaretleyelim\n",
    "def Mark_roi(image_path):\n",
    "\n",
    "    img = cv.imread(image_path)\n",
    "\n",
    "    THRESHOLD_REGION_IGNORE = 80\n",
    "\n",
    "    gray = cv.cvtColor(img, cv.COLOR_BGR2GRAY)\n",
    "\n",
    "    blur = cv.GaussianBlur(gray, (9, 9), 0)\n",
    "\n",
    "    threshold = cv.adaptiveThreshold(blur, 255, cv.ADAPTIVE_THRESH_GAUSSIAN_C, cv.THRESH_BINARY_INV, 11, 30)\n",
    "\n",
    "    kernel = cv.getStructuringElement(cv.MORPH_RECT, (9, 9))\n",
    "    dilate = cv.dilate(threshold, kernel, iterations = 4)\n",
    "\n",
    "    cnts = cv.findContours(dilate, cv.RETR_EXTERNAL, cv.CHAIN_APPROX_SIMPLE)\n",
    "    cnts = cnts[0] if len(cnts) == 2 else cnts[1]\n",
    "\n",
    "    line_items_cordinates = []\n",
    "    for c in cnts:\n",
    "        area = cv.contourArea(c)\n",
    "        x, y, w, h = cv.boundingRect(c)\n",
    "\n",
    "        if w < THRESHOLD_REGION_IGNORE or h < THRESHOLD_REGION_IGNORE:\n",
    "            continue\n",
    "\n",
    "        img = cv.rectangle(img, (x, y), (x + w, y + h), color=(255, 0, 255), thickness=3)\n",
    "        line_items_cordinates.append([(x, y), (x + w, y + h)])\n",
    "\n",
    "    return img, line_items_cordinates\n",
    "\n",
    "# Görüntüleri saklamak için klasör oluşturalım\n",
    "if not os.path.exists('images/pdf2image'):\n",
    "    os.makedirs('images/pdf2image')\n",
    "\n",
    "if not os.path.exists('images/bounding_images'):\n",
    "    os.makedirs('images/bounding_images')\n",
    "\n",
    "# Birden fazla sayfadan oluşursa pdf sayfalarını tek tek çevirebilmek için for içine alalım\n",
    "i = 1\n",
    "j = 1\n",
    "\n",
    "for page in pages:\n",
    "    image_name = \"Page_\" + str(i) + \".jpg\"\n",
    "    folder = \"./images/pdf2image/\" + str(image_name)\n",
    "    page.save(folder, \"JPEG\")\n",
    "    print(f\"{image_name} oluşturuldu\")\n",
    "\n",
    "    # Görüntüdeki textlerin sınırlarını çizelim\n",
    "    bounding_images = \"image_\" + str(j) + \".jpg\"\n",
    "    pic = \"./images/bounding_images/\" + str(bounding_images)\n",
    "    image, line_items_cordinates = Mark_roi(folder)\n",
    "    a_i = Image.fromarray(image)\n",
    "    a_i.save(pic, \"JPEG\")\n",
    "    print(f\"{bounding_images} text sınırlı görüntü oluşturuldu\")\n",
    "    i += 1\n",
    "    j += 1\n",
    "\n",
    "print(\"Başarıyla tamamlandı!\")"
   ]
  },
  {
   "cell_type": "markdown",
   "id": "4d025a61-7a7a-4c39-bf6e-6acab17c5672",
   "metadata": {},
   "source": [
    "## Elde Edilen Görüntüden Çıktı Alma"
   ]
  },
  {
   "cell_type": "code",
   "execution_count": 3,
   "id": "bdee8565-729a-46a4-817e-b5fc4bf6a582",
   "metadata": {},
   "outputs": [
    {
     "name": "stdout",
     "output_type": "stream",
     "text": [
      "Dosya başarıyla oluşturuldu!\n"
     ]
    }
   ],
   "source": [
    "import pytesseract\n",
    "pytesseract.pytesseract.tesseract_cmd = r'C:\\Program Files\\Tesseract-OCR\\tesseract'\n",
    "\n",
    "# Çıktıyı yazabilmek için dosya oluşturalım\n",
    "outfile = \"out_text.txt\"\n",
    "\n",
    "f = open(outfile, \"a\")\n",
    "\n",
    "for i in range(1, i+1):\n",
    "    text = str(pytesseract.image_to_string(pic, config='--psm 6'))\n",
    "    text = text.replace('-\\n', '')\n",
    "    \n",
    "    f.write(text)\n",
    "\n",
    "f.close()\n",
    "\n",
    "print(\"Dosya başarıyla oluşturuldu!\")"
   ]
  },
  {
   "cell_type": "code",
   "execution_count": null,
   "id": "9565dd6b-a6b9-493a-9886-43a4e29669c4",
   "metadata": {},
   "outputs": [],
   "source": []
  }
 ],
 "metadata": {
  "kernelspec": {
   "display_name": "Python 3 (ipykernel)",
   "language": "python",
   "name": "python3"
  },
  "language_info": {
   "codemirror_mode": {
    "name": "ipython",
    "version": 3
   },
   "file_extension": ".py",
   "mimetype": "text/x-python",
   "name": "python",
   "nbconvert_exporter": "python",
   "pygments_lexer": "ipython3",
   "version": "3.9.7"
  }
 },
 "nbformat": 4,
 "nbformat_minor": 5
}
